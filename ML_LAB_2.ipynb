{
  "nbformat": 4,
  "nbformat_minor": 0,
  "metadata": {
    "colab": {
      "provenance": []
    },
    "kernelspec": {
      "name": "python3",
      "display_name": "Python 3"
    },
    "language_info": {
      "name": "python"
    }
  },
  "cells": [
    {
      "cell_type": "markdown",
      "source": [
        "```\n",
        "SET B\n",
        "```"
      ],
      "metadata": {
        "id": "VEi1psQ4agH3"
      }
    },
    {
      "cell_type": "code",
      "execution_count": 1,
      "metadata": {
        "colab": {
          "base_uri": "https://localhost:8080/"
        },
        "id": "yzZ1HsaoZcUA",
        "outputId": "718c9e7a-0cf4-4ed4-cead-bdb52835905c"
      },
      "outputs": [
        {
          "output_type": "stream",
          "name": "stdout",
          "text": [
            "Number of vowels: 5\n",
            "Number of consonants: 7\n"
          ]
        }
      ],
      "source": [
        "\n",
        "#Q1  Write a program to count the number of vowels and consonants present in an input string.\n",
        "\n",
        "def count_vowels_and_consonants(input_string):\n",
        "    vowels = \"AEIOUaeiou\"\n",
        "    consonants = \"BCDFGHJKLMNPQRSTVWXYZbcdfghjklmnpqrstvwxyz\"\n",
        "\n",
        "    vowel_count = 0\n",
        "    consonant_count = 0\n",
        "    for char in input_string:\n",
        "        if char in vowels:\n",
        "            vowel_count += 1\n",
        "        elif char in consonants:\n",
        "            consonant_count += 1\n",
        "\n",
        "    return vowel_count, consonant_count\n",
        "\n",
        "\n",
        "str1=\"Hi Noob Nikhil\"\n",
        "vowel_count, consonant_count = count_vowels_and_consonants(str1)\n",
        "print(\"Number of vowels:\", vowel_count)\n",
        "print(\"Number of consonants:\", consonant_count)\n"
      ]
    },
    {
      "cell_type": "code",
      "source": [
        "#Q2 Write a program that accepts two matrices A and B as input and returns their product AB. Check if A & B are multipliable; if not, return error message\n",
        "\n",
        "import numpy as np\n",
        "\n",
        "def matrix_multiplication(A, B):\n",
        "  m1=len(A)\n",
        "  n1=len(A[0])\n",
        "  m2=len(B)\n",
        "  n2=len(B[0])\n",
        "\n",
        "  if n1!=m2:\n",
        "    print(\"Matrices cannot be multiplied\")\n",
        "\n",
        "  else:\n",
        "    C=[]\n",
        "    for i1 in range(0,m1):\n",
        "      c=[]\n",
        "      for i2 in range(0,n2):\n",
        "        sum=0\n",
        "        for j1 in range(0,m2):\n",
        "          sum+=A[i1][j1]*B[j1][i2]\n",
        "        c.append(sum)\n",
        "      C.append(c)\n",
        "    return C\n",
        "\n",
        "def check_if_correct(A,B,C):\n",
        "  A1=np.array(A)\n",
        "  B1=np.array(B)\n",
        "  C11=np.matmul(A1,B1)\n",
        "  C1=np.array(C)\n",
        "  if np.all(C11==C1):\n",
        "    print(\"Works correctly\")\n",
        "  else:\n",
        "    print(\"Incorrect\")\n",
        "\n",
        "\n",
        "A1=[[1,2,3],[4,5,6],[7,8,9]]\n",
        "\n",
        "C1=matrix_multiplication(A1,A1)\n",
        "print(C1)\n",
        "\n",
        "# To check if it works correctly\n",
        "check_if_correct(A1,A1,C1)\n",
        "A3=[[1],[2],[3]]\n",
        "C3=matrix_multiplication(A1,A3)\n",
        "print(C3)\n",
        "check_if_correct(A1,A3,C3)"
      ],
      "metadata": {
        "colab": {
          "base_uri": "https://localhost:8080/"
        },
        "id": "5LFlqmVkbOFW",
        "outputId": "281f4d30-5c49-4800-f64d-e15f67498a90"
      },
      "execution_count": 17,
      "outputs": [
        {
          "output_type": "stream",
          "name": "stdout",
          "text": [
            "[[30, 36, 42], [66, 81, 96], [102, 126, 150]]\n",
            "Works correctly\n",
            "[[14], [32], [50]]\n",
            "Works correctly\n"
          ]
        }
      ]
    },
    {
      "cell_type": "code",
      "source": [
        "#Q3 Write a program to find the number of common elements between two lists. The lists contain integers.\n",
        "\n",
        "\n",
        "\n",
        "def check_common_elements(l1,l2):\n",
        "  count=0\n",
        "  com=[]\n",
        "  for x in l1:\n",
        "    if x in l2:\n",
        "      if x not in com:\n",
        "        count+=1\n",
        "        com.append(x)\n",
        "  return count\n",
        "L1=list(range(0,10))\n",
        "L2=list(range(5,10))\n",
        "\n",
        "count=check_common_elements(L1,L2)\n",
        "print(count)"
      ],
      "metadata": {
        "colab": {
          "base_uri": "https://localhost:8080/"
        },
        "id": "PO9kMCo-knVZ",
        "outputId": "e70c4fa4-de2b-47b8-fd2a-383f52ccaf9a"
      },
      "execution_count": 12,
      "outputs": [
        {
          "output_type": "stream",
          "name": "stdout",
          "text": [
            "5\n"
          ]
        }
      ]
    },
    {
      "cell_type": "code",
      "source": [
        "#Q4  Write a program that accepts a matrix as input and returns its transpose.\n",
        "import numpy as np\n",
        "\n",
        "def matrix_transpose(M):\n",
        "  m=len(M)\n",
        "  n=len(M[0])\n",
        "  for i in range(0,m):\n",
        "    for j in range(0,n):\n",
        "      if i<=j:\n",
        "        temp=M[i][j]\n",
        "        M[i][j]=M[j][i]\n",
        "        M[j][i]=temp\n",
        "  return M\n",
        "\n",
        "\n",
        "def check_if_correct1(M,T):\n",
        "  M1=np.array(M)\n",
        "  print(M1)\n",
        "  M2=M1.transpose()\n",
        "  T1=np.array(T)\n",
        "  if np.all(M2==T1):\n",
        "    print(\"Works Correctly\")\n",
        "\n",
        "  else:\n",
        "    print(\"Incorrect\")\n",
        "\n",
        "\n",
        "A1=[[1,2,3],[4,5,6],[7,8,9]]\n",
        "print(np.array(A1))\n",
        "A3=[[1,2,3],[4,5,6],[7,8,9]]\n",
        "A2=matrix_transpose(A1)\n",
        "#print(A2)\n",
        "check_if_correct1(A3,A2)"
      ],
      "metadata": {
        "colab": {
          "base_uri": "https://localhost:8080/"
        },
        "id": "8kCEI1Wsmjw6",
        "outputId": "03f8f049-74ce-459c-9673-cb5eb417b5fc"
      },
      "execution_count": 50,
      "outputs": [
        {
          "output_type": "stream",
          "name": "stdout",
          "text": [
            "[[1 2 3]\n",
            " [4 5 6]\n",
            " [7 8 9]]\n",
            "[[1 2 3]\n",
            " [4 5 6]\n",
            " [7 8 9]]\n",
            "Works Correctly\n"
          ]
        }
      ]
    }
  ]
}