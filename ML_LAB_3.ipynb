{
  "nbformat": 4,
  "nbformat_minor": 0,
  "metadata": {
    "colab": {
      "provenance": [],
      "mount_file_id": "1WKiE1mvhf1VuPCjuHnvxfz-tf9o5hAkB",
      "authorship_tag": "ABX9TyOW/qGtkRNzoik6NJaqs/pC",
      "include_colab_link": true
    },
    "kernelspec": {
      "name": "python3",
      "display_name": "Python 3"
    },
    "language_info": {
      "name": "python"
    }
  },
  "cells": [
    {
      "cell_type": "markdown",
      "metadata": {
        "id": "view-in-github",
        "colab_type": "text"
      },
      "source": [
        "<a href=\"https://colab.research.google.com/github/Vector42-rev/learning_to_make_machine_learn/blob/lab_stuff/ML_LAB_3.ipynb\" target=\"_parent\"><img src=\"https://colab.research.google.com/assets/colab-badge.svg\" alt=\"Open In Colab\"/></a>"
      ]
    },
    {
      "cell_type": "code",
      "execution_count": null,
      "metadata": {
        "id": "84mjCRxbGiRH"
      },
      "outputs": [],
      "source": [
        "\"\"\"\n",
        "A1. Please refer to the “Purchase Data” worksheet of Lab Session Data.xlsx. Please load the data\n",
        "and segregate them into 2 matrices A & C (following the nomenclature of AX = C). Do the following\n",
        "activities.\n",
        "• What is the dimensionality of the vector space for this data?\n",
        "• How many vectors exist in this vector space?\n",
        "• What is the rank of Matrix A?\n",
        "• Using Pseudo-Inverse find the cost of each product available for sale.\n",
        "(Suggestion: If you use Python, you can use numpy.linalg.pinv() function to get a\n",
        "pseudo-inverse.)\n",
        "\"\"\""
      ]
    },
    {
      "cell_type": "code",
      "source": [
        "import pandas as pd\n",
        "import numpy as np\n",
        "\n",
        "path=\"/content/drive/MyDrive/ML/lab3/Lab Session Data_1.csv\"\n",
        "df=pd.read_csv(path)\n",
        "print(df)\n",
        "df1=df[['Candies','Mangoes','Milk Packets']]\n",
        "A1=df1.to_numpy()\n",
        "#print(A1)\n",
        "df2=df['Payment']\n",
        "C1=df2.to_numpy()\n",
        "C=np.array(C1).reshape(-1,1)\n",
        "print(C)\n",
        "A=np.array(A1)\n",
        "print(A)\n",
        "print(\"The rank of the matrix A is:- \")\n",
        "rank=np.linalg.matrix_rank(A)\n",
        "print(rank)\n",
        "\n",
        "print(\"Dimensionality :-\")\n",
        "\n",
        "augmented_matrix = np.hstack([A, C])\n",
        "rank_augmented = np.linalg.matrix_rank(augmented_matrix)\n",
        "num_variables = A.shape[1]\n",
        "\n",
        "if rank == rank_augmented:\n",
        "    dimension_solution_space = num_variables - rank\n",
        "    print(f\"Dimension of the solution space: {dimension_solution_space}\")\n",
        "    if dimension_solution_space > 0:\n",
        "        print(\"There are infinitely many solutions.\")\n",
        "    elif dimension_solution_space == 0:\n",
        "        print(\"There is a unique solution.\")\n",
        "else:\n",
        "    print(\"The system is inconsistent and has no solutions.\")\n",
        "\n",
        "\n",
        "Ai=np.linalg.pinv(A)\n",
        "print(\"Cost of each item:- \")\n",
        "X=np.dot(Ai,C)\n",
        "print(X)\n"
      ],
      "metadata": {
        "colab": {
          "base_uri": "https://localhost:8080/"
        },
        "id": "nyxBcrrpILbi",
        "outputId": "c5677631-f41d-4e27-c1da-d160ab6945a9"
      },
      "execution_count": 27,
      "outputs": [
        {
          "output_type": "stream",
          "name": "stdout",
          "text": [
            "  Customer  Candies  Mangoes  Milk Packets  Payment\n",
            "0      C_1       20        6             2      386\n",
            "1      C_2       16        3             6      289\n",
            "2      C_3       27        6             2      393\n",
            "3      C_4       19        1             2      110\n",
            "4      C_5       24        4             2      280\n",
            "5      C_6       22        1             5      167\n",
            "6      C_7       15        4             2      271\n",
            "7      C_8       18        4             2      274\n",
            "8      C_9       21        1             4      148\n",
            "9     C_10       16        2             4      198\n",
            "[[386]\n",
            " [289]\n",
            " [393]\n",
            " [110]\n",
            " [280]\n",
            " [167]\n",
            " [271]\n",
            " [274]\n",
            " [148]\n",
            " [198]]\n",
            "[[20  6  2]\n",
            " [16  3  6]\n",
            " [27  6  2]\n",
            " [19  1  2]\n",
            " [24  4  2]\n",
            " [22  1  5]\n",
            " [15  4  2]\n",
            " [18  4  2]\n",
            " [21  1  4]\n",
            " [16  2  4]]\n",
            "The rank of the matrix A is:- \n",
            "3\n",
            "Dimensionality :-\n",
            "Dimension of the solution space: 0\n",
            "There is a unique solution.\n",
            "Cost of each item:- \n",
            "[[ 1.]\n",
            " [55.]\n",
            " [18.]]\n"
          ]
        }
      ]
    },
    {
      "cell_type": "code",
      "source": [
        "#A2. Use the Pseudo-inverse to calculate the model vector X for predicting the cost of the products available with the vendor.\n",
        "\n",
        "#Answer in previous cell"
      ],
      "metadata": {
        "id": "sNByBqx1Jmph"
      },
      "execution_count": null,
      "outputs": []
    },
    {
      "cell_type": "code",
      "source": [
        "\"\"\"\n",
        "A3. Mark all customers (in “Purchase Data” table) with payments above Rs. 200 as RICH and others\n",
        "as POOR. Develop a classifier model to categorize customers into RICH or POOR class based on\n",
        "purchase behavior\n",
        "\"\"\"\n",
        "\n",
        "\n",
        "def classifier_model():\n",
        "  path=\"/content/drive/MyDrive/ML/lab3/Lab Session Data_1.csv\"\n",
        "  df=pd.read_csv(path)\n",
        "  df['R/P'] =np.where(df['Payment']>200,'RICH','POOR')\n",
        "  print(df)\n",
        "\n",
        "\n",
        "classifier_model()\n"
      ],
      "metadata": {
        "colab": {
          "base_uri": "https://localhost:8080/"
        },
        "id": "AwOhY3Hqaps4",
        "outputId": "a1ab6bd3-cd98-42a7-df52-0d7c0a4d0d81"
      },
      "execution_count": 28,
      "outputs": [
        {
          "output_type": "stream",
          "name": "stdout",
          "text": [
            "  Customer  Candies  Mangoes  Milk Packets  Payment   R/P\n",
            "0      C_1       20        6             2      386  RICH\n",
            "1      C_2       16        3             6      289  RICH\n",
            "2      C_3       27        6             2      393  RICH\n",
            "3      C_4       19        1             2      110  POOR\n",
            "4      C_5       24        4             2      280  RICH\n",
            "5      C_6       22        1             5      167  POOR\n",
            "6      C_7       15        4             2      271  RICH\n",
            "7      C_8       18        4             2      274  RICH\n",
            "8      C_9       21        1             4      148  POOR\n",
            "9     C_10       16        2             4      198  POOR\n"
          ]
        }
      ]
    },
    {
      "cell_type": "code",
      "source": [
        "\"\"\"\n",
        "A4. Please refer to the data present in “IRCTC Stock Price” data sheet of the above excel file. Do the\n",
        "following after loading the data to your programming platform.\n",
        "• Calculate the mean and variance of the Price data present in column D.\n",
        "(Suggestion: if you use Python, you may use statistics.mean() &\n",
        "statistics.variance() methods).\n",
        "• Select the price data for all Wednesdays and calculate the sample mean. Compare the mean\n",
        "with the population mean and note your observations.\n",
        "• Select the price data for the month of Apr and calculate the sample mean. Compare the\n",
        "mean with the population mean and note your observations.\n",
        "• From the Chg% (available in column I) find the probability of making a loss over the stock.\n",
        "(Suggestion: use lambda function to find negative values)\n",
        "• Calculate the probability of making a profit on Wednesday.\n",
        "• Calculate the conditional probability of making profit, given that today is Wednesday.\n",
        "• Make a scatter plot of Chg% data against the day of the week\n",
        "\n",
        "\"\"\""
      ],
      "metadata": {
        "id": "acYmtuZOef74"
      },
      "execution_count": null,
      "outputs": []
    }
  ]
}