{
  "nbformat": 4,
  "nbformat_minor": 0,
  "metadata": {
    "colab": {
      "provenance": [],
      "authorship_tag": "ABX9TyOgnQ8LtiBC+tIDSbJmkcHT",
      "include_colab_link": true
    },
    "kernelspec": {
      "name": "python3",
      "display_name": "Python 3"
    },
    "language_info": {
      "name": "python"
    }
  },
  "cells": [
    {
      "cell_type": "markdown",
      "metadata": {
        "id": "view-in-github",
        "colab_type": "text"
      },
      "source": [
        "<a href=\"https://colab.research.google.com/github/Vector42-rev/learning_to_make_machine_learn/blob/main/transliteration_test.ipynb\" target=\"_parent\"><img src=\"https://colab.research.google.com/assets/colab-badge.svg\" alt=\"Open In Colab\"/></a>"
      ]
    },
    {
      "cell_type": "code",
      "source": [
        "!pip install pip==23.2.1\n"
      ],
      "metadata": {
        "colab": {
          "base_uri": "https://localhost:8080/"
        },
        "id": "2szYaM-RiL7U",
        "outputId": "85d39096-d268-40e7-9e3b-11f88594b391"
      },
      "execution_count": null,
      "outputs": [
        {
          "output_type": "stream",
          "name": "stdout",
          "text": [
            "Collecting pip==23.2.1\n",
            "  Downloading pip-23.2.1-py3-none-any.whl.metadata (4.2 kB)\n",
            "Downloading pip-23.2.1-py3-none-any.whl (2.1 MB)\n",
            "\u001b[?25l   \u001b[90m━━━━━━━━━━━━━━━━━━━━━━━━━━━━━━━━━━━━━━━━\u001b[0m \u001b[32m0.0/2.1 MB\u001b[0m \u001b[31m?\u001b[0m eta \u001b[36m-:--:--\u001b[0m\r\u001b[2K   \u001b[91m━━\u001b[0m\u001b[91m╸\u001b[0m\u001b[90m━━━━━━━━━━━━━━━━━━━━━━━━━━━━━━━━━━━━━\u001b[0m \u001b[32m0.2/2.1 MB\u001b[0m \u001b[31m5.2 MB/s\u001b[0m eta \u001b[36m0:00:01\u001b[0m\r\u001b[2K   \u001b[91m━━━━━━━━━━━━━━━━━━━━━━━━━━━━━\u001b[0m\u001b[91m╸\u001b[0m\u001b[90m━━━━━━━━━━\u001b[0m \u001b[32m1.5/2.1 MB\u001b[0m \u001b[31m22.0 MB/s\u001b[0m eta \u001b[36m0:00:01\u001b[0m\r\u001b[2K   \u001b[90m━━━━━━━━━━━━━━━━━━━━━━━━━━━━━━━━━━━━━━━━\u001b[0m \u001b[32m2.1/2.1 MB\u001b[0m \u001b[31m20.3 MB/s\u001b[0m eta \u001b[36m0:00:00\u001b[0m\n",
            "\u001b[?25hInstalling collected packages: pip\n",
            "  Attempting uninstall: pip\n",
            "    Found existing installation: pip 24.1.2\n",
            "    Uninstalling pip-24.1.2:\n",
            "      Successfully uninstalled pip-24.1.2\n",
            "Successfully installed pip-23.2.1\n"
          ]
        }
      ]
    },
    {
      "cell_type": "code",
      "execution_count": null,
      "metadata": {
        "colab": {
          "base_uri": "https://localhost:8080/"
        },
        "id": "FyFLHVvZgGsg",
        "outputId": "dff29c03-7f35-42cf-899e-6f7fa6cfd501"
      },
      "outputs": [
        {
          "output_type": "stream",
          "name": "stdout",
          "text": [
            "Collecting ai4bharat-transliteration==1.1.3\n",
            "  Obtaining dependency information for ai4bharat-transliteration==1.1.3 from https://files.pythonhosted.org/packages/04/34/9649b4fbc53fe7b038b70666b031f586d81f7b085e610cb9c3873cb5bd8e/ai4bharat_transliteration-1.1.3-py3-none-any.whl.metadata\n",
            "  Downloading ai4bharat_transliteration-1.1.3-py3-none-any.whl.metadata (7.1 kB)\n",
            "Collecting pydload (from ai4bharat-transliteration==1.1.3)\n",
            "  Obtaining dependency information for pydload from https://files.pythonhosted.org/packages/88/08/001d390cb7b246a1265d9f1a24f9b08637c37fb9b0cfcb55f528d2aeb4c5/pydload-1.0.9-py2.py3-none-any.whl.metadata\n",
            "  Downloading pydload-1.0.9-py2.py3-none-any.whl.metadata (1.3 kB)\n",
            "Requirement already satisfied: flask in /usr/local/lib/python3.10/dist-packages (from ai4bharat-transliteration==1.1.3) (2.2.5)\n",
            "Collecting flask-cors (from ai4bharat-transliteration==1.1.3)\n",
            "  Obtaining dependency information for flask-cors from https://files.pythonhosted.org/packages/56/07/1afa0514c876282bebc1c9aee83c6bb98fe6415cf57b88d9b06e7e29bf9c/Flask_Cors-5.0.0-py2.py3-none-any.whl.metadata\n",
            "  Downloading Flask_Cors-5.0.0-py2.py3-none-any.whl.metadata (5.5 kB)\n",
            "Collecting gevent (from ai4bharat-transliteration==1.1.3)\n",
            "  Obtaining dependency information for gevent from https://files.pythonhosted.org/packages/00/98/12c03fd004fbeeca01276ffc589f5a368fd741d02582ab7006d1bdef57e7/gevent-24.10.3-cp310-cp310-manylinux_2_17_x86_64.manylinux2014_x86_64.whl.metadata\n",
            "  Downloading gevent-24.10.3-cp310-cp310-manylinux_2_17_x86_64.manylinux2014_x86_64.whl.metadata (13 kB)\n",
            "Collecting sacremoses (from ai4bharat-transliteration==1.1.3)\n",
            "  Obtaining dependency information for sacremoses from https://files.pythonhosted.org/packages/0b/f0/89ee2bc9da434bd78464f288fdb346bc2932f2ee80a90b2a4bbbac262c74/sacremoses-0.1.1-py3-none-any.whl.metadata\n",
            "  Downloading sacremoses-0.1.1-py3-none-any.whl.metadata (8.3 kB)\n",
            "Requirement already satisfied: pandas in /usr/local/lib/python3.10/dist-packages (from ai4bharat-transliteration==1.1.3) (2.2.2)\n",
            "Requirement already satisfied: tqdm in /usr/local/lib/python3.10/dist-packages (from ai4bharat-transliteration==1.1.3) (4.66.6)\n",
            "Collecting ujson (from ai4bharat-transliteration==1.1.3)\n",
            "  Obtaining dependency information for ujson from https://files.pythonhosted.org/packages/b4/6d/0df8f7a6f1944ba619d93025ce468c9252aa10799d7140e07014dfc1a16c/ujson-5.10.0-cp310-cp310-manylinux_2_17_x86_64.manylinux2014_x86_64.whl.metadata\n",
            "  Downloading ujson-5.10.0-cp310-cp310-manylinux_2_17_x86_64.manylinux2014_x86_64.whl.metadata (9.3 kB)\n",
            "Collecting mock (from ai4bharat-transliteration==1.1.3)\n",
            "  Obtaining dependency information for mock from https://files.pythonhosted.org/packages/6b/20/471f41173930550f279ccb65596a5ac19b9ac974a8d93679bcd3e0c31498/mock-5.1.0-py3-none-any.whl.metadata\n",
            "  Downloading mock-5.1.0-py3-none-any.whl.metadata (3.0 kB)\n",
            "Collecting tensorboardX (from ai4bharat-transliteration==1.1.3)\n",
            "  Obtaining dependency information for tensorboardX from https://files.pythonhosted.org/packages/44/71/f3e7c9b2ab67e28c572ab4e9d5fa3499e0d252650f96d8a3a03e26677f53/tensorboardX-2.6.2.2-py2.py3-none-any.whl.metadata\n",
            "  Downloading tensorboardX-2.6.2.2-py2.py3-none-any.whl.metadata (5.8 kB)\n",
            "Requirement already satisfied: pyarrow in /usr/local/lib/python3.10/dist-packages (from ai4bharat-transliteration==1.1.3) (17.0.0)\n",
            "Collecting fairseq (from ai4bharat-transliteration==1.1.3)\n",
            "  Downloading fairseq-0.12.2.tar.gz (9.6 MB)\n",
            "\u001b[2K     \u001b[90m━━━━━━━━━━━━━━━━━━━━━━━━━━━━━━━━━━━━━━━━\u001b[0m \u001b[32m9.6/9.6 MB\u001b[0m \u001b[31m49.4 MB/s\u001b[0m eta \u001b[36m0:00:00\u001b[0m\n",
            "\u001b[?25h  Installing build dependencies ... \u001b[?25l\u001b[?25hdone\n",
            "  Getting requirements to build wheel ... \u001b[?25l\u001b[?25hdone\n",
            "  Installing backend dependencies ... \u001b[?25l\u001b[?25hdone\n",
            "  Preparing metadata (pyproject.toml) ... \u001b[?25l\u001b[?25hdone\n",
            "Collecting urduhack (from ai4bharat-transliteration==1.1.3)\n",
            "  Obtaining dependency information for urduhack from https://files.pythonhosted.org/packages/59/04/3393a9626b766cfee3187e9ccfa27e73061c24646d60be22a0652de95b4f/urduhack-1.1.1-py3-none-any.whl.metadata\n",
            "  Downloading urduhack-1.1.1-py3-none-any.whl.metadata (7.2 kB)\n",
            "Collecting indic-nlp-library (from ai4bharat-transliteration==1.1.3)\n",
            "  Obtaining dependency information for indic-nlp-library from https://files.pythonhosted.org/packages/ec/21/61240bcf965cedfec993497b38c42f054b149b9669e6d6cddeb1dee09d51/indic_nlp_library-0.92-py3-none-any.whl.metadata\n",
            "  Downloading indic_nlp_library-0.92-py3-none-any.whl.metadata (5.7 kB)\n",
            "Requirement already satisfied: cffi in /usr/local/lib/python3.10/dist-packages (from fairseq->ai4bharat-transliteration==1.1.3) (1.17.1)\n",
            "Requirement already satisfied: cython in /usr/local/lib/python3.10/dist-packages (from fairseq->ai4bharat-transliteration==1.1.3) (3.0.11)\n",
            "Collecting hydra-core<1.1,>=1.0.7 (from fairseq->ai4bharat-transliteration==1.1.3)\n",
            "  Obtaining dependency information for hydra-core<1.1,>=1.0.7 from https://files.pythonhosted.org/packages/5f/2a/9c698daa12ed6e09e7629e6908528f043fa9de8a441c56cc13608d765fb2/hydra_core-1.0.7-py3-none-any.whl.metadata\n",
            "  Downloading hydra_core-1.0.7-py3-none-any.whl.metadata (3.7 kB)\n",
            "Collecting omegaconf<2.1 (from fairseq->ai4bharat-transliteration==1.1.3)\n",
            "  Obtaining dependency information for omegaconf<2.1 from https://files.pythonhosted.org/packages/d0/eb/9d63ce09dd8aa85767c65668d5414958ea29648a0eec80a4a7d311ec2684/omegaconf-2.0.6-py3-none-any.whl.metadata\n",
            "  Downloading omegaconf-2.0.6-py3-none-any.whl.metadata (3.0 kB)\n",
            "Requirement already satisfied: regex in /usr/local/lib/python3.10/dist-packages (from fairseq->ai4bharat-transliteration==1.1.3) (2024.9.11)\n",
            "Collecting sacrebleu>=1.4.12 (from fairseq->ai4bharat-transliteration==1.1.3)\n",
            "  Obtaining dependency information for sacrebleu>=1.4.12 from https://files.pythonhosted.org/packages/15/d8/e51d35bc863caa19ddeae48dfb890581a19326973ad1c9fa5dcfc63310f7/sacrebleu-2.4.3-py3-none-any.whl.metadata\n",
            "  Downloading sacrebleu-2.4.3-py3-none-any.whl.metadata (51 kB)\n",
            "\u001b[2K     \u001b[90m━━━━━━━━━━━━━━━━━━━━━━━━━━━━━━━━━━━━━━━━\u001b[0m \u001b[32m51.8/51.8 kB\u001b[0m \u001b[31m6.9 MB/s\u001b[0m eta \u001b[36m0:00:00\u001b[0m\n",
            "\u001b[?25hRequirement already satisfied: torch in /usr/local/lib/python3.10/dist-packages (from fairseq->ai4bharat-transliteration==1.1.3) (2.5.0+cu121)\n",
            "Collecting bitarray (from fairseq->ai4bharat-transliteration==1.1.3)\n",
            "  Obtaining dependency information for bitarray from https://files.pythonhosted.org/packages/17/33/c2a7cb6f0030ea94408c84c4f80f4065b54b2bf1d4080e36fcd0b4c587a2/bitarray-3.0.0-cp310-cp310-manylinux_2_17_x86_64.manylinux2014_x86_64.whl.metadata\n",
            "  Downloading bitarray-3.0.0-cp310-cp310-manylinux_2_17_x86_64.manylinux2014_x86_64.whl.metadata (32 kB)\n",
            "Requirement already satisfied: torchaudio>=0.8.0 in /usr/local/lib/python3.10/dist-packages (from fairseq->ai4bharat-transliteration==1.1.3) (2.5.0+cu121)\n",
            "Requirement already satisfied: numpy in /usr/local/lib/python3.10/dist-packages (from fairseq->ai4bharat-transliteration==1.1.3) (1.26.4)\n",
            "Requirement already satisfied: Werkzeug>=2.2.2 in /usr/local/lib/python3.10/dist-packages (from flask->ai4bharat-transliteration==1.1.3) (3.0.6)\n",
            "Requirement already satisfied: Jinja2>=3.0 in /usr/local/lib/python3.10/dist-packages (from flask->ai4bharat-transliteration==1.1.3) (3.1.4)\n",
            "Requirement already satisfied: itsdangerous>=2.0 in /usr/local/lib/python3.10/dist-packages (from flask->ai4bharat-transliteration==1.1.3) (2.2.0)\n",
            "Requirement already satisfied: click>=8.0 in /usr/local/lib/python3.10/dist-packages (from flask->ai4bharat-transliteration==1.1.3) (8.1.7)\n",
            "Collecting zope.event (from gevent->ai4bharat-transliteration==1.1.3)\n",
            "  Obtaining dependency information for zope.event from https://files.pythonhosted.org/packages/fe/42/f8dbc2b9ad59e927940325a22d6d3931d630c3644dae7e2369ef5d9ba230/zope.event-5.0-py3-none-any.whl.metadata\n",
            "  Downloading zope.event-5.0-py3-none-any.whl.metadata (4.4 kB)\n",
            "Collecting zope.interface (from gevent->ai4bharat-transliteration==1.1.3)\n",
            "  Obtaining dependency information for zope.interface from https://files.pythonhosted.org/packages/9a/6e/449acdd6530cbb9c224be3e59b032d8fc6db35ea8b398aaabcaee50f3881/zope.interface-7.1.1-cp310-cp310-manylinux_2_5_x86_64.manylinux1_x86_64.manylinux_2_17_x86_64.manylinux2014_x86_64.whl.metadata\n",
            "  Downloading zope.interface-7.1.1-cp310-cp310-manylinux_2_5_x86_64.manylinux1_x86_64.manylinux_2_17_x86_64.manylinux2014_x86_64.whl.metadata (44 kB)\n",
            "\u001b[2K     \u001b[90m━━━━━━━━━━━━━━━━━━━━━━━━━━━━━━━━━━━━━━━━\u001b[0m \u001b[32m44.1/44.1 kB\u001b[0m \u001b[31m4.9 MB/s\u001b[0m eta \u001b[36m0:00:00\u001b[0m\n",
            "\u001b[?25hRequirement already satisfied: greenlet>=3.1.1 in /usr/local/lib/python3.10/dist-packages (from gevent->ai4bharat-transliteration==1.1.3) (3.1.1)\n",
            "Collecting sphinx-argparse (from indic-nlp-library->ai4bharat-transliteration==1.1.3)\n",
            "  Obtaining dependency information for sphinx-argparse from https://files.pythonhosted.org/packages/e5/43/9f0e9bfb3ce02cbf7747aa2185c48a9d6e42ba95736a5e8f511a5054d976/sphinx_argparse-0.5.2-py3-none-any.whl.metadata\n",
            "  Downloading sphinx_argparse-0.5.2-py3-none-any.whl.metadata (3.7 kB)\n",
            "Collecting sphinx-rtd-theme (from indic-nlp-library->ai4bharat-transliteration==1.1.3)\n",
            "  Obtaining dependency information for sphinx-rtd-theme from https://files.pythonhosted.org/packages/c8/51/aed903ad0843a06ccfb93e6e8849e752a9379eaec0f50d9237ae373dd737/sphinx_rtd_theme-3.0.1-py2.py3-none-any.whl.metadata\n",
            "  Downloading sphinx_rtd_theme-3.0.1-py2.py3-none-any.whl.metadata (4.4 kB)\n",
            "Collecting morfessor (from indic-nlp-library->ai4bharat-transliteration==1.1.3)\n",
            "  Obtaining dependency information for morfessor from https://files.pythonhosted.org/packages/39/e6/7afea30be2ee4d29ce9de0fa53acbb033163615f849515c0b1956ad074ee/Morfessor-2.0.6-py3-none-any.whl.metadata\n",
            "  Downloading Morfessor-2.0.6-py3-none-any.whl.metadata (628 bytes)\n",
            "Requirement already satisfied: python-dateutil>=2.8.2 in /usr/local/lib/python3.10/dist-packages (from pandas->ai4bharat-transliteration==1.1.3) (2.8.2)\n",
            "Requirement already satisfied: pytz>=2020.1 in /usr/local/lib/python3.10/dist-packages (from pandas->ai4bharat-transliteration==1.1.3) (2024.2)\n",
            "Requirement already satisfied: tzdata>=2022.7 in /usr/local/lib/python3.10/dist-packages (from pandas->ai4bharat-transliteration==1.1.3) (2024.2)\n",
            "Requirement already satisfied: progressbar2 in /usr/local/lib/python3.10/dist-packages (from pydload->ai4bharat-transliteration==1.1.3) (4.5.0)\n",
            "Requirement already satisfied: requests in /usr/local/lib/python3.10/dist-packages (from pydload->ai4bharat-transliteration==1.1.3) (2.32.3)\n",
            "Requirement already satisfied: joblib in /usr/local/lib/python3.10/dist-packages (from sacremoses->ai4bharat-transliteration==1.1.3) (1.4.2)\n",
            "Requirement already satisfied: packaging in /usr/local/lib/python3.10/dist-packages (from tensorboardX->ai4bharat-transliteration==1.1.3) (24.1)\n",
            "Requirement already satisfied: protobuf>=3.20 in /usr/local/lib/python3.10/dist-packages (from tensorboardX->ai4bharat-transliteration==1.1.3) (3.20.3)\n",
            "Collecting tf2crf (from urduhack->ai4bharat-transliteration==1.1.3)\n",
            "  Obtaining dependency information for tf2crf from https://files.pythonhosted.org/packages/08/2d/d5b522f5f8853fdd0b934cef668c9538e14e4f7b09a16fea5f5b47f4ea17/tf2crf-0.1.33-py2.py3-none-any.whl.metadata\n",
            "  Downloading tf2crf-0.1.33-py2.py3-none-any.whl.metadata (1.9 kB)\n",
            "Collecting tensorflow-datasets~=3.1 (from urduhack->ai4bharat-transliteration==1.1.3)\n",
            "  Obtaining dependency information for tensorflow-datasets~=3.1 from https://files.pythonhosted.org/packages/ca/c9/d97bdf931edbae9aebc767633d088bd674136d5fe7587ef693b7cb6a1883/tensorflow_datasets-3.2.1-py3-none-any.whl.metadata\n",
            "  Downloading tensorflow_datasets-3.2.1-py3-none-any.whl.metadata (4.8 kB)\n",
            "INFO: pip is looking at multiple versions of urduhack to determine which version is compatible with other requirements. This could take a while.\n",
            "Collecting urduhack (from ai4bharat-transliteration==1.1.3)\n",
            "  Obtaining dependency information for urduhack from https://files.pythonhosted.org/packages/cc/62/d549a2bc3359929aea95901c6daee6cf4fcf86fab864f322001815f4c180/urduhack-1.1.0-py3-none-any.whl.metadata\n",
            "  Downloading urduhack-1.1.0-py3-none-any.whl.metadata (7.2 kB)\n",
            "  Obtaining dependency information for urduhack from https://files.pythonhosted.org/packages/e0/80/9bb2b1549873943aedb3232d68fe582a9ff4c559672bd3c6d9b90efa0113/urduhack-1.0.3-py3-none-any.whl.metadata\n",
            "  Downloading urduhack-1.0.3-py3-none-any.whl.metadata (7.1 kB)\n",
            "  Obtaining dependency information for urduhack from https://files.pythonhosted.org/packages/8f/2a/b9b4ed3a8b033b5d9e157cc4fcec609a6ecffe51fbc9b80a530eb48b8332/urduhack-1.0.2-py3-none-any.whl.metadata\n",
            "  Downloading urduhack-1.0.2-py3-none-any.whl.metadata (7.1 kB)\n",
            "  Obtaining dependency information for urduhack from https://files.pythonhosted.org/packages/ef/52/0d72e1f860d173e5fded67f664a961fe8fb50b6368a3bc175e1b103e6907/urduhack-1.0.1-py3-none-any.whl.metadata\n",
            "  Downloading urduhack-1.0.1-py3-none-any.whl.metadata (7.2 kB)\n",
            "  Obtaining dependency information for urduhack from https://files.pythonhosted.org/packages/93/c8/0dfeec27922bd80dc635f5a590b97df40f702fd03c18cf795d20c67ea4cb/urduhack-1.0.0-py3-none-any.whl.metadata\n",
            "  Downloading urduhack-1.0.0-py3-none-any.whl.metadata (7.4 kB)\n",
            "  Obtaining dependency information for urduhack from https://files.pythonhosted.org/packages/03/67/7c10f834f5456e3c8502122bb43d84d27723bc0192566a6789df2fe2abd0/urduhack-0.3.4-py3-none-any.whl.metadata\n",
            "  Downloading urduhack-0.3.4-py3-none-any.whl.metadata (7.2 kB)\n",
            "Collecting transformers~=2.10 (from urduhack->ai4bharat-transliteration==1.1.3)\n",
            "  Obtaining dependency information for transformers~=2.10 from https://files.pythonhosted.org/packages/48/35/ad2c5b1b8f99feaaf9d7cdadaeef261f098c6e1a6a2935d4d07662a6b780/transformers-2.11.0-py3-none-any.whl.metadata\n",
            "  Downloading transformers-2.11.0-py3-none-any.whl.metadata (45 kB)\n",
            "\u001b[2K     \u001b[90m━━━━━━━━━━━━━━━━━━━━━━━━━━━━━━━━━━━━━━━━\u001b[0m \u001b[32m45.3/45.3 kB\u001b[0m \u001b[31m6.4 MB/s\u001b[0m eta \u001b[36m0:00:00\u001b[0m\n",
            "\u001b[?25hCollecting urduhack (from ai4bharat-transliteration==1.1.3)\n",
            "  Obtaining dependency information for urduhack from https://files.pythonhosted.org/packages/d3/6b/1157eb0813f2e9a1abad9bdca79b25ec8be06d596dcd67dda8ea31a4ade8/urduhack-0.3.3-py3-none-any.whl.metadata\n",
            "  Downloading urduhack-0.3.3-py3-none-any.whl.metadata (7.2 kB)\n",
            "INFO: pip is still looking at multiple versions of urduhack to determine which version is compatible with other requirements. This could take a while.\n",
            "  Obtaining dependency information for urduhack from https://files.pythonhosted.org/packages/6c/a4/1601461a006ef7518d971fb05465260361c5254c8741f1c180a32096e636/urduhack-0.3.2-py3-none-any.whl.metadata\n",
            "  Downloading urduhack-0.3.2-py3-none-any.whl.metadata (6.9 kB)\n",
            "Requirement already satisfied: tensorflow~=2.2 in /usr/local/lib/python3.10/dist-packages (from urduhack->ai4bharat-transliteration==1.1.3) (2.17.0)\n",
            "  Obtaining dependency information for urduhack from https://files.pythonhosted.org/packages/86/a9/635ea5ba2230f192c524a9bdc583e7a26fc0854caddb4bca90df0ce74971/urduhack-0.3.1-py3-none-any.whl.metadata\n",
            "  Downloading urduhack-0.3.1-py3-none-any.whl.metadata (6.2 kB)\n",
            "  Obtaining dependency information for urduhack from https://files.pythonhosted.org/packages/a5/30/db73a41c7d5dde75c5d36bc3f20c11ead42b99ee1905438acf88fe05fcc6/urduhack-0.2.7-py3-none-any.whl.metadata\n",
            "  Downloading urduhack-0.2.7-py3-none-any.whl.metadata (5.6 kB)\n",
            "Collecting regex (from fairseq->ai4bharat-transliteration==1.1.3)\n",
            "  Downloading regex-2019.12.20.tar.gz (679 kB)\n",
            "\u001b[2K     \u001b[90m━━━━━━━━━━━━━━━━━━━━━━━━━━━━━━━━━━━━━━━━\u001b[0m \u001b[32m679.8/679.8 kB\u001b[0m \u001b[31m54.0 MB/s\u001b[0m eta \u001b[36m0:00:00\u001b[0m\n",
            "\u001b[?25h  Preparing metadata (setup.py) ... \u001b[?25l\u001b[?25hdone\n",
            "Collecting urduhack (from ai4bharat-transliteration==1.1.3)\n",
            "  Obtaining dependency information for urduhack from https://files.pythonhosted.org/packages/03/1a/8537244fe45490781c467820a484877b910bdb6ca1332cd5fc85a1a2e715/urduhack-0.2.6-py3-none-any.whl.metadata\n",
            "  Downloading urduhack-0.2.6-py3-none-any.whl.metadata (5.6 kB)\n",
            "  Obtaining dependency information for urduhack from https://files.pythonhosted.org/packages/35/f9/1598e24bda2d3b1b983a217769bb71ad075ca7acbba376fabff2c282bc0c/urduhack-0.2.5-py3-none-any.whl.metadata\n",
            "  Downloading urduhack-0.2.5-py3-none-any.whl.metadata (5.7 kB)\n",
            "INFO: This is taking longer than usual. You might need to provide the dependency resolver with stricter constraints to reduce runtime. See https://pip.pypa.io/warnings/backtracking for guidance. If you want to abort this run, press Ctrl + C.\n",
            "  Obtaining dependency information for urduhack from https://files.pythonhosted.org/packages/dc/50/188b5034c46d3317f61fec90169d8e2787e511fe6b8f757fbf826ff8c3fe/urduhack-0.2.4-py3-none-any.whl.metadata\n",
            "  Downloading urduhack-0.2.4-py3-none-any.whl.metadata (5.7 kB)\n",
            "  Obtaining dependency information for urduhack from https://files.pythonhosted.org/packages/f5/91/a1832bfc5d215aff01b70d3231c789b7c3794446c21727c4c34d1a7ef913/urduhack-0.2.3-py3-none-any.whl.metadata\n",
            "  Downloading urduhack-0.2.3-py3-none-any.whl.metadata (5.8 kB)\n",
            "  Obtaining dependency information for urduhack from https://files.pythonhosted.org/packages/75/d1/c716be59d2d8768f519417d7cbc08b11d3aad19a115d3e8917b15fbaa41e/urduhack-0.2.2-py3-none-any.whl.metadata\n",
            "  Downloading urduhack-0.2.2-py3-none-any.whl.metadata (5.8 kB)\n",
            "  Obtaining dependency information for urduhack from https://files.pythonhosted.org/packages/f3/40/e1183cf4bd8398349403448d9f61048d40547e47cf3f99757812bbd23a17/urduhack-0.2.1-py3-none-any.whl.metadata\n",
            "  Downloading urduhack-0.2.1-py3-none-any.whl.metadata (5.9 kB)\n",
            "  Obtaining dependency information for urduhack from https://files.pythonhosted.org/packages/a9/59/ea10cac4c2753451e7f6b738f8cf1b7a9a4f5175523ff901574fa511f084/urduhack-0.1.4-py3-none-any.whl.metadata\n",
            "  Downloading urduhack-0.1.4-py3-none-any.whl.metadata (5.4 kB)\n",
            "Collecting antlr4-python3-runtime==4.8 (from hydra-core<1.1,>=1.0.7->fairseq->ai4bharat-transliteration==1.1.3)\n",
            "  Downloading antlr4-python3-runtime-4.8.tar.gz (112 kB)\n",
            "\u001b[2K     \u001b[90m━━━━━━━━━━━━━━━━━━━━━━━━━━━━━━━━━━━━━━━━\u001b[0m \u001b[32m112.4/112.4 kB\u001b[0m \u001b[31m14.7 MB/s\u001b[0m eta \u001b[36m0:00:00\u001b[0m\n",
            "\u001b[?25h  Preparing metadata (setup.py) ... \u001b[?25l\u001b[?25hdone\n",
            "Requirement already satisfied: MarkupSafe>=2.0 in /usr/local/lib/python3.10/dist-packages (from Jinja2>=3.0->flask->ai4bharat-transliteration==1.1.3) (3.0.2)\n",
            "Requirement already satisfied: PyYAML>=5.1.* in /usr/local/lib/python3.10/dist-packages (from omegaconf<2.1->fairseq->ai4bharat-transliteration==1.1.3) (6.0.2)\n",
            "Requirement already satisfied: typing-extensions in /usr/local/lib/python3.10/dist-packages (from omegaconf<2.1->fairseq->ai4bharat-transliteration==1.1.3) (4.12.2)\n",
            "Requirement already satisfied: six>=1.5 in /usr/local/lib/python3.10/dist-packages (from python-dateutil>=2.8.2->pandas->ai4bharat-transliteration==1.1.3) (1.16.0)\n",
            "Collecting portalocker (from sacrebleu>=1.4.12->fairseq->ai4bharat-transliteration==1.1.3)\n",
            "  Obtaining dependency information for portalocker from https://files.pythonhosted.org/packages/9b/fb/a70a4214956182e0d7a9099ab17d50bfcba1056188e9b14f35b9e2b62a0d/portalocker-2.10.1-py3-none-any.whl.metadata\n",
            "  Downloading portalocker-2.10.1-py3-none-any.whl.metadata (8.5 kB)\n",
            "Requirement already satisfied: tabulate>=0.8.9 in /usr/local/lib/python3.10/dist-packages (from sacrebleu>=1.4.12->fairseq->ai4bharat-transliteration==1.1.3) (0.9.0)\n",
            "Collecting colorama (from sacrebleu>=1.4.12->fairseq->ai4bharat-transliteration==1.1.3)\n",
            "  Obtaining dependency information for colorama from https://files.pythonhosted.org/packages/d1/d6/3965ed04c63042e047cb6a3e6ed1a63a35087b6a609aa3a15ed8ac56c221/colorama-0.4.6-py2.py3-none-any.whl.metadata\n",
            "  Downloading colorama-0.4.6-py2.py3-none-any.whl.metadata (17 kB)\n",
            "Requirement already satisfied: lxml in /usr/local/lib/python3.10/dist-packages (from sacrebleu>=1.4.12->fairseq->ai4bharat-transliteration==1.1.3) (5.3.0)\n",
            "Requirement already satisfied: filelock in /usr/local/lib/python3.10/dist-packages (from torch->fairseq->ai4bharat-transliteration==1.1.3) (3.16.1)\n",
            "Requirement already satisfied: networkx in /usr/local/lib/python3.10/dist-packages (from torch->fairseq->ai4bharat-transliteration==1.1.3) (3.4.2)\n",
            "Requirement already satisfied: fsspec in /usr/local/lib/python3.10/dist-packages (from torch->fairseq->ai4bharat-transliteration==1.1.3) (2024.10.0)\n",
            "Requirement already satisfied: sympy==1.13.1 in /usr/local/lib/python3.10/dist-packages (from torch->fairseq->ai4bharat-transliteration==1.1.3) (1.13.1)\n",
            "Requirement already satisfied: mpmath<1.4,>=1.1.0 in /usr/local/lib/python3.10/dist-packages (from sympy==1.13.1->torch->fairseq->ai4bharat-transliteration==1.1.3) (1.3.0)\n",
            "Requirement already satisfied: pycparser in /usr/local/lib/python3.10/dist-packages (from cffi->fairseq->ai4bharat-transliteration==1.1.3) (2.22)\n",
            "Requirement already satisfied: python-utils>=3.8.1 in /usr/local/lib/python3.10/dist-packages (from progressbar2->pydload->ai4bharat-transliteration==1.1.3) (3.9.0)\n",
            "Requirement already satisfied: charset-normalizer<4,>=2 in /usr/local/lib/python3.10/dist-packages (from requests->pydload->ai4bharat-transliteration==1.1.3) (3.4.0)\n",
            "Requirement already satisfied: idna<4,>=2.5 in /usr/local/lib/python3.10/dist-packages (from requests->pydload->ai4bharat-transliteration==1.1.3) (3.10)\n",
            "Requirement already satisfied: urllib3<3,>=1.21.1 in /usr/local/lib/python3.10/dist-packages (from requests->pydload->ai4bharat-transliteration==1.1.3) (2.2.3)\n",
            "Requirement already satisfied: certifi>=2017.4.17 in /usr/local/lib/python3.10/dist-packages (from requests->pydload->ai4bharat-transliteration==1.1.3) (2024.8.30)\n",
            "Collecting sphinx>=5.1.0 (from sphinx-argparse->indic-nlp-library->ai4bharat-transliteration==1.1.3)\n",
            "  Obtaining dependency information for sphinx>=5.1.0 from https://files.pythonhosted.org/packages/26/60/1ddff83a56d33aaf6f10ec8ce84b4c007d9368b21008876fceda7e7381ef/sphinx-8.1.3-py3-none-any.whl.metadata\n",
            "  Downloading sphinx-8.1.3-py3-none-any.whl.metadata (6.4 kB)\n",
            "Collecting docutils>=0.19 (from sphinx-argparse->indic-nlp-library->ai4bharat-transliteration==1.1.3)\n",
            "  Obtaining dependency information for docutils>=0.19 from https://files.pythonhosted.org/packages/8f/d7/9322c609343d929e75e7e5e6255e614fcc67572cfd083959cdef3b7aad79/docutils-0.21.2-py3-none-any.whl.metadata\n",
            "  Downloading docutils-0.21.2-py3-none-any.whl.metadata (2.8 kB)\n",
            "Collecting sphinxcontrib-jquery<5,>=4 (from sphinx-rtd-theme->indic-nlp-library->ai4bharat-transliteration==1.1.3)\n",
            "  Obtaining dependency information for sphinxcontrib-jquery<5,>=4 from https://files.pythonhosted.org/packages/76/85/749bd22d1a68db7291c89e2ebca53f4306c3f205853cf31e9de279034c3c/sphinxcontrib_jquery-4.1-py2.py3-none-any.whl.metadata\n",
            "  Downloading sphinxcontrib_jquery-4.1-py2.py3-none-any.whl.metadata (2.6 kB)\n",
            "Requirement already satisfied: setuptools in /usr/local/lib/python3.10/dist-packages (from zope.event->gevent->ai4bharat-transliteration==1.1.3) (75.1.0)\n",
            "Requirement already satisfied: sphinxcontrib-applehelp>=1.0.7 in /usr/local/lib/python3.10/dist-packages (from sphinx>=5.1.0->sphinx-argparse->indic-nlp-library->ai4bharat-transliteration==1.1.3) (2.0.0)\n",
            "Requirement already satisfied: sphinxcontrib-devhelp>=1.0.6 in /usr/local/lib/python3.10/dist-packages (from sphinx>=5.1.0->sphinx-argparse->indic-nlp-library->ai4bharat-transliteration==1.1.3) (2.0.0)\n",
            "Requirement already satisfied: sphinxcontrib-htmlhelp>=2.0.6 in /usr/local/lib/python3.10/dist-packages (from sphinx>=5.1.0->sphinx-argparse->indic-nlp-library->ai4bharat-transliteration==1.1.3) (2.1.0)\n",
            "Requirement already satisfied: sphinxcontrib-jsmath>=1.0.1 in /usr/local/lib/python3.10/dist-packages (from sphinx>=5.1.0->sphinx-argparse->indic-nlp-library->ai4bharat-transliteration==1.1.3) (1.0.1)\n",
            "Requirement already satisfied: sphinxcontrib-qthelp>=1.0.6 in /usr/local/lib/python3.10/dist-packages (from sphinx>=5.1.0->sphinx-argparse->indic-nlp-library->ai4bharat-transliteration==1.1.3) (2.0.0)\n",
            "Requirement already satisfied: sphinxcontrib-serializinghtml>=1.1.9 in /usr/local/lib/python3.10/dist-packages (from sphinx>=5.1.0->sphinx-argparse->indic-nlp-library->ai4bharat-transliteration==1.1.3) (2.0.0)\n",
            "Requirement already satisfied: Pygments>=2.17 in /usr/local/lib/python3.10/dist-packages (from sphinx>=5.1.0->sphinx-argparse->indic-nlp-library->ai4bharat-transliteration==1.1.3) (2.18.0)\n",
            "Requirement already satisfied: snowballstemmer>=2.2 in /usr/local/lib/python3.10/dist-packages (from sphinx>=5.1.0->sphinx-argparse->indic-nlp-library->ai4bharat-transliteration==1.1.3) (2.2.0)\n",
            "Requirement already satisfied: babel>=2.13 in /usr/local/lib/python3.10/dist-packages (from sphinx>=5.1.0->sphinx-argparse->indic-nlp-library->ai4bharat-transliteration==1.1.3) (2.16.0)\n",
            "Requirement already satisfied: alabaster>=0.7.14 in /usr/local/lib/python3.10/dist-packages (from sphinx>=5.1.0->sphinx-argparse->indic-nlp-library->ai4bharat-transliteration==1.1.3) (0.7.16)\n",
            "Requirement already satisfied: imagesize>=1.3 in /usr/local/lib/python3.10/dist-packages (from sphinx>=5.1.0->sphinx-argparse->indic-nlp-library->ai4bharat-transliteration==1.1.3) (1.4.1)\n",
            "Requirement already satisfied: tomli>=2 in /usr/local/lib/python3.10/dist-packages (from sphinx>=5.1.0->sphinx-argparse->indic-nlp-library->ai4bharat-transliteration==1.1.3) (2.0.2)\n",
            "Downloading ai4bharat_transliteration-1.1.3-py3-none-any.whl (32 kB)\n",
            "Downloading Flask_Cors-5.0.0-py2.py3-none-any.whl (14 kB)\n",
            "Downloading gevent-24.10.3-cp310-cp310-manylinux_2_17_x86_64.manylinux2014_x86_64.whl (6.7 MB)\n",
            "\u001b[2K   \u001b[90m━━━━━━━━━━━━━━━━━━━━━━━━━━━━━━━━━━━━━━━━\u001b[0m \u001b[32m6.7/6.7 MB\u001b[0m \u001b[31m73.7 MB/s\u001b[0m eta \u001b[36m0:00:00\u001b[0m\n",
            "\u001b[?25hDownloading indic_nlp_library-0.92-py3-none-any.whl (40 kB)\n",
            "\u001b[2K   \u001b[90m━━━━━━━━━━━━━━━━━━━━━━━━━━━━━━━━━━━━━━━━\u001b[0m \u001b[32m40.3/40.3 kB\u001b[0m \u001b[31m5.3 MB/s\u001b[0m eta \u001b[36m0:00:00\u001b[0m\n",
            "\u001b[?25hDownloading mock-5.1.0-py3-none-any.whl (30 kB)\n",
            "Downloading pydload-1.0.9-py2.py3-none-any.whl (16 kB)\n",
            "Downloading sacremoses-0.1.1-py3-none-any.whl (897 kB)\n",
            "\u001b[2K   \u001b[90m━━━━━━━━━━━━━━━━━━━━━━━━━━━━━━━━━━━━━━━━\u001b[0m \u001b[32m897.5/897.5 kB\u001b[0m \u001b[31m40.3 MB/s\u001b[0m eta \u001b[36m0:00:00\u001b[0m\n",
            "\u001b[?25hDownloading tensorboardX-2.6.2.2-py2.py3-none-any.whl (101 kB)\n",
            "\u001b[2K   \u001b[90m━━━━━━━━━━━━━━━━━━━━━━━━━━━━━━━━━━━━━━━━\u001b[0m \u001b[32m101.7/101.7 kB\u001b[0m \u001b[31m14.2 MB/s\u001b[0m eta \u001b[36m0:00:00\u001b[0m\n",
            "\u001b[?25hDownloading ujson-5.10.0-cp310-cp310-manylinux_2_17_x86_64.manylinux2014_x86_64.whl (53 kB)\n",
            "\u001b[2K   \u001b[90m━━━━━━━━━━━━━━━━━━━━━━━━━━━━━━━━━━━━━━━━\u001b[0m \u001b[32m53.6/53.6 kB\u001b[0m \u001b[31m7.7 MB/s\u001b[0m eta \u001b[36m0:00:00\u001b[0m\n",
            "\u001b[?25hDownloading urduhack-0.1.4-py3-none-any.whl (62 kB)\n",
            "\u001b[2K   \u001b[90m━━━━━━━━━━━━━━━━━━━━━━━━━━━━━━━━━━━━━━━━\u001b[0m \u001b[32m62.9/62.9 kB\u001b[0m \u001b[31m8.5 MB/s\u001b[0m eta \u001b[36m0:00:00\u001b[0m\n",
            "\u001b[?25hDownloading hydra_core-1.0.7-py3-none-any.whl (123 kB)\n",
            "\u001b[2K   \u001b[90m━━━━━━━━━━━━━━━━━━━━━━━━━━━━━━━━━━━━━━━━\u001b[0m \u001b[32m123.8/123.8 kB\u001b[0m \u001b[31m16.8 MB/s\u001b[0m eta \u001b[36m0:00:00\u001b[0m\n",
            "\u001b[?25hDownloading omegaconf-2.0.6-py3-none-any.whl (36 kB)\n",
            "Downloading sacrebleu-2.4.3-py3-none-any.whl (103 kB)\n",
            "\u001b[2K   \u001b[90m━━━━━━━━━━━━━━━━━━━━━━━━━━━━━━━━━━━━━━━━\u001b[0m \u001b[32m104.0/104.0 kB\u001b[0m \u001b[31m15.2 MB/s\u001b[0m eta \u001b[36m0:00:00\u001b[0m\n",
            "\u001b[?25hDownloading bitarray-3.0.0-cp310-cp310-manylinux_2_17_x86_64.manylinux2014_x86_64.whl (278 kB)\n",
            "\u001b[2K   \u001b[90m━━━━━━━━━━━━━━━━━━━━━━━━━━━━━━━━━━━━━━━━\u001b[0m \u001b[32m278.3/278.3 kB\u001b[0m \u001b[31m29.3 MB/s\u001b[0m eta \u001b[36m0:00:00\u001b[0m\n",
            "\u001b[?25hDownloading Morfessor-2.0.6-py3-none-any.whl (35 kB)\n",
            "Downloading sphinx_argparse-0.5.2-py3-none-any.whl (12 kB)\n",
            "Downloading sphinx_rtd_theme-3.0.1-py2.py3-none-any.whl (7.7 MB)\n",
            "\u001b[2K   \u001b[90m━━━━━━━━━━━━━━━━━━━━━━━━━━━━━━━━━━━━━━━━\u001b[0m \u001b[32m7.7/7.7 MB\u001b[0m \u001b[31m93.3 MB/s\u001b[0m eta \u001b[36m0:00:00\u001b[0m\n",
            "\u001b[?25hDownloading zope.event-5.0-py3-none-any.whl (6.8 kB)\n",
            "Downloading zope.interface-7.1.1-cp310-cp310-manylinux_2_5_x86_64.manylinux1_x86_64.manylinux_2_17_x86_64.manylinux2014_x86_64.whl (254 kB)\n",
            "\u001b[2K   \u001b[90m━━━━━━━━━━━━━━━━━━━━━━━━━━━━━━━━━━━━━━━━\u001b[0m \u001b[32m254.2/254.2 kB\u001b[0m \u001b[31m30.8 MB/s\u001b[0m eta \u001b[36m0:00:00\u001b[0m\n",
            "\u001b[?25hDownloading docutils-0.21.2-py3-none-any.whl (587 kB)\n",
            "\u001b[2K   \u001b[90m━━━━━━━━━━━━━━━━━━━━━━━━━━━━━━━━━━━━━━━━\u001b[0m \u001b[32m587.4/587.4 kB\u001b[0m \u001b[31m43.4 MB/s\u001b[0m eta \u001b[36m0:00:00\u001b[0m\n",
            "\u001b[?25hDownloading sphinx-8.1.3-py3-none-any.whl (3.5 MB)\n",
            "\u001b[2K   \u001b[90m━━━━━━━━━━━━━━━━━━━━━━━━━━━━━━━━━━━━━━━━\u001b[0m \u001b[32m3.5/3.5 MB\u001b[0m \u001b[31m90.8 MB/s\u001b[0m eta \u001b[36m0:00:00\u001b[0m\n",
            "\u001b[?25hDownloading sphinxcontrib_jquery-4.1-py2.py3-none-any.whl (121 kB)\n",
            "\u001b[2K   \u001b[90m━━━━━━━━━━━━━━━━━━━━━━━━━━━━━━━━━━━━━━━━\u001b[0m \u001b[32m121.1/121.1 kB\u001b[0m \u001b[31m17.5 MB/s\u001b[0m eta \u001b[36m0:00:00\u001b[0m\n",
            "\u001b[?25hDownloading colorama-0.4.6-py2.py3-none-any.whl (25 kB)\n",
            "Downloading portalocker-2.10.1-py3-none-any.whl (18 kB)\n",
            "Building wheels for collected packages: fairseq, antlr4-python3-runtime\n",
            "  Building wheel for fairseq (pyproject.toml) ... \u001b[?25l\u001b[?25hdone\n",
            "  Created wheel for fairseq: filename=fairseq-0.12.2-cp310-cp310-linux_x86_64.whl size=11288602 sha256=0a8acc33da4c666c18c7c12ba87bba7e6f9ab50c9adfc73bbc7997eab0b1e3d6\n",
            "  Stored in directory: /root/.cache/pip/wheels/e4/35/55/9c66f65ec7c83fd6fbc2b9502a0ac81b2448a1196159dacc32\n",
            "  Building wheel for antlr4-python3-runtime (setup.py) ... \u001b[?25l\u001b[?25hdone\n",
            "  Created wheel for antlr4-python3-runtime: filename=antlr4_python3_runtime-4.8-py3-none-any.whl size=141214 sha256=3a5f667f88d1803c22676aaa0d75fd4ce66ddcf18f58112d0cca169190a5cf12\n",
            "  Stored in directory: /root/.cache/pip/wheels/a7/20/bd/e1477d664f22d99989fd28ee1a43d6633dddb5cb9e801350d5\n",
            "Successfully built fairseq antlr4-python3-runtime\n",
            "\u001b[33mDEPRECATION: omegaconf 2.0.6 has a non-standard dependency specifier PyYAML>=5.1.*. pip 23.3 will enforce this behaviour change. A possible replacement is to upgrade to a newer version of omegaconf or contact the author to suggest that they release a version with a conforming dependency specifiers. Discussion can be found at https://github.com/pypa/pip/issues/12063\u001b[0m\u001b[33m\n",
            "\u001b[0mInstalling collected packages: morfessor, bitarray, antlr4-python3-runtime, zope.interface, zope.event, urduhack, ujson, tensorboardX, sacremoses, portalocker, omegaconf, mock, docutils, colorama, sphinx, sacrebleu, hydra-core, gevent, sphinxcontrib-jquery, sphinx-argparse, pydload, flask-cors, sphinx-rtd-theme, fairseq, indic-nlp-library, ai4bharat-transliteration\n",
            "  Attempting uninstall: docutils\n",
            "    Found existing installation: docutils 0.18.1\n",
            "    Uninstalling docutils-0.18.1:\n",
            "      Successfully uninstalled docutils-0.18.1\n",
            "  Attempting uninstall: sphinx\n",
            "    Found existing installation: Sphinx 5.0.2\n",
            "    Uninstalling Sphinx-5.0.2:\n",
            "      Successfully uninstalled Sphinx-5.0.2\n",
            "Successfully installed ai4bharat-transliteration-1.1.3 antlr4-python3-runtime-4.8 bitarray-3.0.0 colorama-0.4.6 docutils-0.21.2 fairseq-0.12.2 flask-cors-5.0.0 gevent-24.10.3 hydra-core-1.0.7 indic-nlp-library-0.92 mock-5.1.0 morfessor-2.0.6 omegaconf-2.0.6 portalocker-2.10.1 pydload-1.0.9 sacrebleu-2.4.3 sacremoses-0.1.1 sphinx-8.1.3 sphinx-argparse-0.5.2 sphinx-rtd-theme-3.0.1 sphinxcontrib-jquery-4.1 tensorboardX-2.6.2.2 ujson-5.10.0 urduhack-0.1.4 zope.event-5.0 zope.interface-7.1.1\n"
          ]
        }
      ],
      "source": [
        "!pip install ai4bharat-transliteration==1.1.3"
      ]
    },
    {
      "cell_type": "code",
      "source": [
        "from ai4bharat.transliteration import XlitEngine"
      ],
      "metadata": {
        "id": "QKsNYxWAgiWN"
      },
      "execution_count": null,
      "outputs": []
    },
    {
      "cell_type": "code",
      "source": [
        "# Initializing the en-indic multilingual model and dictionaries (if rerank option is True)\n",
        "e = XlitEngine(\"hi\", beam_width=4, rescore=True, src_script_type=\"en\")\n",
        "\n",
        "# Transliterate word\n",
        "out = e.translit_word(\"one\", topk=1)\n",
        "print(out)"
      ],
      "metadata": {
        "id": "rLBw9UB9glhT",
        "colab": {
          "base_uri": "https://localhost:8080/"
        },
        "outputId": "1bc24a92-7524-4bd8-ec6e-55ced947e1e2"
      },
      "execution_count": null,
      "outputs": [
        {
          "output_type": "stream",
          "name": "stdout",
          "text": [
            "Initializing Multilingual model for transliteration\n"
          ]
        },
        {
          "output_type": "stream",
          "name": "stderr",
          "text": [
            "Loading dicts into RAM: 100%|██████████| 1/1 [00:06<00:00,  6.05s/it]"
          ]
        },
        {
          "output_type": "stream",
          "name": "stdout",
          "text": [
            "{'hi': ['ओने']}\n"
          ]
        },
        {
          "output_type": "stream",
          "name": "stderr",
          "text": [
            "\n"
          ]
        }
      ]
    },
    {
      "cell_type": "code",
      "source": [
        "# intializing the indic-en multilingual model and dictionaries (if rerank option is True)\n",
        "e = XlitEngine( beam_width=4, rescore=False, src_script_type = \"indic\")\n",
        "\n",
        "# transliterate Hindi word\n",
        "out = e.translit_word(\"ನರೇಂದ್ರಮೋದೀ\", 'kn', topk=10)\n",
        "print(out)\n",
        "\n"
      ],
      "metadata": {
        "colab": {
          "base_uri": "https://localhost:8080/"
        },
        "id": "uT0abV6_jjRC",
        "outputId": "89a10797-f703-4eea-e5e1-99db20009a56"
      },
      "execution_count": null,
      "outputs": [
        {
          "output_type": "stream",
          "name": "stdout",
          "text": [
            "Initializing Multilingual model for transliteration\n",
            "['narendramodi', 'narendramodhi', 'narendramodee', 'narindramodi']\n"
          ]
        }
      ]
    },
    {
      "cell_type": "code",
      "source": [],
      "metadata": {
        "id": "jv9fQR2gjhaf"
      },
      "execution_count": null,
      "outputs": []
    },
    {
      "cell_type": "code",
      "source": [],
      "metadata": {
        "id": "MY8uPwdBiL3V"
      },
      "execution_count": null,
      "outputs": []
    }
  ]
}